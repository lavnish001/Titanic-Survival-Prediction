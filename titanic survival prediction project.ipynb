{
  "cells": [
    {
      "cell_type": "markdown",
      "id": "706bc1ae",
      "metadata": {
        "papermill": {
          "duration": 0.037767,
          "end_time": "2022-09-08T02:16:19.664920",
          "exception": false,
          "start_time": "2022-09-08T02:16:19.627153",
          "status": "completed"
        },
        "tags": [],
        "id": "706bc1ae"
      },
      "source": [
        "# Imports"
      ]
    },
    {
      "cell_type": "code",
      "execution_count": 2,
      "id": "1f720dac",
      "metadata": {
        "_cell_guid": "b1076dfc-b9ad-4769-8c92-a6c4dae69d19",
        "_uuid": "8f2839f25d086af736a60e9eeb907d3b93b6e0e5",
        "execution": {
          "iopub.execute_input": "2022-09-08T02:16:19.747018Z",
          "iopub.status.busy": "2022-09-08T02:16:19.746573Z",
          "iopub.status.idle": "2022-09-08T02:16:21.168479Z",
          "shell.execute_reply": "2022-09-08T02:16:21.167600Z"
        },
        "papermill": {
          "duration": 1.471105,
          "end_time": "2022-09-08T02:16:21.171013",
          "exception": false,
          "start_time": "2022-09-08T02:16:19.699908",
          "status": "completed"
        },
        "tags": [],
        "id": "1f720dac"
      },
      "outputs": [],
      "source": [
        "import pandas as pd\n",
        "import numpy as np\n",
        "from sklearn.preprocessing import LabelEncoder\n",
        "\n",
        "import pylab\n",
        "import matplotlib.pyplot as plt\n",
        "%matplotlib inline\n",
        " \n",
        "from sklearn.linear_model import LogisticRegression\n",
        "\n",
        "import seaborn as sns\n",
        "import scipy.stats as stats"
      ]
    },
    {
      "cell_type": "markdown",
      "id": "b1471de5",
      "metadata": {
        "execution": {
          "iopub.execute_input": "2022-09-08T01:50:13.267171Z",
          "iopub.status.busy": "2022-09-08T01:50:13.266838Z",
          "iopub.status.idle": "2022-09-08T01:50:13.270997Z",
          "shell.execute_reply": "2022-09-08T01:50:13.270337Z",
          "shell.execute_reply.started": "2022-09-08T01:50:13.267137Z"
        },
        "papermill": {
          "duration": 0.034411,
          "end_time": "2022-09-08T02:16:21.240363",
          "exception": false,
          "start_time": "2022-09-08T02:16:21.205952",
          "status": "completed"
        },
        "tags": [],
        "id": "b1471de5"
      },
      "source": [
        "# Data Sets"
      ]
    },
    {
      "cell_type": "code",
      "execution_count": 4,
      "id": "147a5f7f",
      "metadata": {
        "execution": {
          "iopub.execute_input": "2022-09-08T02:16:21.314955Z",
          "iopub.status.busy": "2022-09-08T02:16:21.314339Z",
          "iopub.status.idle": "2022-09-08T02:16:21.343361Z",
          "shell.execute_reply": "2022-09-08T02:16:21.342676Z"
        },
        "papermill": {
          "duration": 0.067475,
          "end_time": "2022-09-08T02:16:21.345687",
          "exception": false,
          "start_time": "2022-09-08T02:16:21.278212",
          "status": "completed"
        },
        "tags": [],
        "id": "147a5f7f"
      },
      "outputs": [],
      "source": [
        "TrainSet = pd.read_csv(\"train.csv\")\n",
        "TestSet = pd.read_csv(\"test.csv\")"
      ]
    },
    {
      "cell_type": "markdown",
      "id": "11a546ec",
      "metadata": {
        "execution": {
          "iopub.execute_input": "2022-09-08T01:51:03.516350Z",
          "iopub.status.busy": "2022-09-08T01:51:03.516023Z",
          "iopub.status.idle": "2022-09-08T01:51:03.520521Z",
          "shell.execute_reply": "2022-09-08T01:51:03.519766Z",
          "shell.execute_reply.started": "2022-09-08T01:51:03.516301Z"
        },
        "papermill": {
          "duration": 0.034632,
          "end_time": "2022-09-08T02:16:21.415179",
          "exception": false,
          "start_time": "2022-09-08T02:16:21.380547",
          "status": "completed"
        },
        "tags": [],
        "id": "11a546ec"
      },
      "source": [
        "# Exploring the data"
      ]
    },
    {
      "cell_type": "code",
      "execution_count": 5,
      "id": "b6b44e10",
      "metadata": {
        "execution": {
          "iopub.execute_input": "2022-09-08T02:16:21.487034Z",
          "iopub.status.busy": "2022-09-08T02:16:21.486454Z",
          "iopub.status.idle": "2022-09-08T02:16:21.513484Z",
          "shell.execute_reply": "2022-09-08T02:16:21.512567Z"
        },
        "papermill": {
          "duration": 0.066006,
          "end_time": "2022-09-08T02:16:21.516035",
          "exception": false,
          "start_time": "2022-09-08T02:16:21.450029",
          "status": "completed"
        },
        "tags": [],
        "colab": {
          "base_uri": "https://localhost:8080/"
        },
        "id": "b6b44e10",
        "outputId": "196b03e8-e23a-4bda-ec5f-cfdf831a3372"
      },
      "outputs": [
        {
          "output_type": "stream",
          "name": "stdout",
          "text": [
            "<class 'pandas.core.frame.DataFrame'>\n",
            "RangeIndex: 891 entries, 0 to 890\n",
            "Data columns (total 12 columns):\n",
            " #   Column       Non-Null Count  Dtype  \n",
            "---  ------       --------------  -----  \n",
            " 0   PassengerId  891 non-null    int64  \n",
            " 1   Survived     891 non-null    int64  \n",
            " 2   Pclass       891 non-null    int64  \n",
            " 3   Name         891 non-null    object \n",
            " 4   Sex          891 non-null    object \n",
            " 5   Age          714 non-null    float64\n",
            " 6   SibSp        891 non-null    int64  \n",
            " 7   Parch        891 non-null    int64  \n",
            " 8   Ticket       891 non-null    object \n",
            " 9   Fare         891 non-null    float64\n",
            " 10  Cabin        204 non-null    object \n",
            " 11  Embarked     889 non-null    object \n",
            "dtypes: float64(2), int64(5), object(5)\n",
            "memory usage: 83.7+ KB\n"
          ]
        }
      ],
      "source": [
        "TrainSet.info()"
      ]
    },
    {
      "cell_type": "code",
      "execution_count": 6,
      "id": "b022f628",
      "metadata": {
        "execution": {
          "iopub.execute_input": "2022-09-08T02:16:21.588794Z",
          "iopub.status.busy": "2022-09-08T02:16:21.588495Z",
          "iopub.status.idle": "2022-09-08T02:16:21.596331Z",
          "shell.execute_reply": "2022-09-08T02:16:21.595675Z"
        },
        "papermill": {
          "duration": 0.04632,
          "end_time": "2022-09-08T02:16:21.598380",
          "exception": false,
          "start_time": "2022-09-08T02:16:21.552060",
          "status": "completed"
        },
        "tags": [],
        "id": "b022f628"
      },
      "outputs": [],
      "source": [
        "TrainSet =  TrainSet.drop('Name', axis=1)\n",
        "TestSet =  TestSet.drop('Name', axis=1)"
      ]
    },
    {
      "cell_type": "code",
      "execution_count": 7,
      "id": "6cb94f0c",
      "metadata": {
        "execution": {
          "iopub.execute_input": "2022-09-08T02:16:21.672410Z",
          "iopub.status.busy": "2022-09-08T02:16:21.672136Z",
          "iopub.status.idle": "2022-09-08T02:16:21.681436Z",
          "shell.execute_reply": "2022-09-08T02:16:21.680708Z"
        },
        "papermill": {
          "duration": 0.047743,
          "end_time": "2022-09-08T02:16:21.683646",
          "exception": false,
          "start_time": "2022-09-08T02:16:21.635903",
          "status": "completed"
        },
        "tags": [],
        "colab": {
          "base_uri": "https://localhost:8080/"
        },
        "id": "6cb94f0c",
        "outputId": "a294abe5-e140-44cb-8479-65cfb143e8a8"
      },
      "outputs": [
        {
          "output_type": "execute_result",
          "data": {
            "text/plain": [
              "{0: 'female', 1: 'male'}"
            ]
          },
          "metadata": {},
          "execution_count": 7
        }
      ],
      "source": [
        "le = LabelEncoder()\n",
        "TrainSet.Sex = le.fit_transform(TrainSet.Sex)\n",
        "model_mapping = {index : label for index, label in enumerate(le.classes_)}\n",
        "model_mapping"
      ]
    },
    {
      "cell_type": "code",
      "execution_count": 8,
      "id": "03e86b1f",
      "metadata": {
        "execution": {
          "iopub.execute_input": "2022-09-08T02:16:21.757008Z",
          "iopub.status.busy": "2022-09-08T02:16:21.756439Z",
          "iopub.status.idle": "2022-09-08T02:16:21.762366Z",
          "shell.execute_reply": "2022-09-08T02:16:21.761752Z"
        },
        "papermill": {
          "duration": 0.044545,
          "end_time": "2022-09-08T02:16:21.764414",
          "exception": false,
          "start_time": "2022-09-08T02:16:21.719869",
          "status": "completed"
        },
        "tags": [],
        "id": "03e86b1f"
      },
      "outputs": [],
      "source": [
        "TrainSet.Ticket = le.fit_transform(TrainSet.Ticket)\n"
      ]
    },
    {
      "cell_type": "code",
      "execution_count": 9,
      "id": "f34f4b71",
      "metadata": {
        "collapsed": true,
        "execution": {
          "iopub.execute_input": "2022-09-08T02:16:21.837904Z",
          "iopub.status.busy": "2022-09-08T02:16:21.837583Z",
          "iopub.status.idle": "2022-09-08T02:16:21.844919Z",
          "shell.execute_reply": "2022-09-08T02:16:21.844212Z"
        },
        "jupyter": {
          "outputs_hidden": true
        },
        "papermill": {
          "duration": 0.046295,
          "end_time": "2022-09-08T02:16:21.846918",
          "exception": false,
          "start_time": "2022-09-08T02:16:21.800623",
          "status": "completed"
        },
        "tags": [],
        "colab": {
          "base_uri": "https://localhost:8080/"
        },
        "id": "f34f4b71",
        "outputId": "b5880d7b-05aa-4ae9-b5db-f8416e4b12bf"
      },
      "outputs": [
        {
          "output_type": "execute_result",
          "data": {
            "text/plain": [
              "{0: 'C', 1: 'Q', 2: 'S', 3: nan}"
            ]
          },
          "metadata": {},
          "execution_count": 9
        }
      ],
      "source": [
        "TrainSet.Embarked = le.fit_transform(TrainSet.Embarked)\n",
        "model_mapping = {index : label for index, label in enumerate(le.classes_)}\n",
        "model_mapping"
      ]
    },
    {
      "cell_type": "code",
      "execution_count": 10,
      "id": "c2376059",
      "metadata": {
        "collapsed": true,
        "execution": {
          "iopub.execute_input": "2022-09-08T02:16:21.920459Z",
          "iopub.status.busy": "2022-09-08T02:16:21.919905Z",
          "iopub.status.idle": "2022-09-08T02:16:21.931351Z",
          "shell.execute_reply": "2022-09-08T02:16:21.930696Z"
        },
        "jupyter": {
          "outputs_hidden": true
        },
        "papermill": {
          "duration": 0.050517,
          "end_time": "2022-09-08T02:16:21.933272",
          "exception": false,
          "start_time": "2022-09-08T02:16:21.882755",
          "status": "completed"
        },
        "tags": [],
        "colab": {
          "base_uri": "https://localhost:8080/"
        },
        "id": "c2376059",
        "outputId": "48811116-1594-4590-bc4e-8778bc5cc409"
      },
      "outputs": [
        {
          "output_type": "execute_result",
          "data": {
            "text/plain": [
              "{0: 'A10',\n",
              " 1: 'A14',\n",
              " 2: 'A16',\n",
              " 3: 'A19',\n",
              " 4: 'A20',\n",
              " 5: 'A23',\n",
              " 6: 'A24',\n",
              " 7: 'A26',\n",
              " 8: 'A31',\n",
              " 9: 'A32',\n",
              " 10: 'A34',\n",
              " 11: 'A36',\n",
              " 12: 'A5',\n",
              " 13: 'A6',\n",
              " 14: 'A7',\n",
              " 15: 'B101',\n",
              " 16: 'B102',\n",
              " 17: 'B18',\n",
              " 18: 'B19',\n",
              " 19: 'B20',\n",
              " 20: 'B22',\n",
              " 21: 'B28',\n",
              " 22: 'B3',\n",
              " 23: 'B30',\n",
              " 24: 'B35',\n",
              " 25: 'B37',\n",
              " 26: 'B38',\n",
              " 27: 'B39',\n",
              " 28: 'B4',\n",
              " 29: 'B41',\n",
              " 30: 'B42',\n",
              " 31: 'B49',\n",
              " 32: 'B5',\n",
              " 33: 'B50',\n",
              " 34: 'B51 B53 B55',\n",
              " 35: 'B57 B59 B63 B66',\n",
              " 36: 'B58 B60',\n",
              " 37: 'B69',\n",
              " 38: 'B71',\n",
              " 39: 'B73',\n",
              " 40: 'B77',\n",
              " 41: 'B78',\n",
              " 42: 'B79',\n",
              " 43: 'B80',\n",
              " 44: 'B82 B84',\n",
              " 45: 'B86',\n",
              " 46: 'B94',\n",
              " 47: 'B96 B98',\n",
              " 48: 'C101',\n",
              " 49: 'C103',\n",
              " 50: 'C104',\n",
              " 51: 'C106',\n",
              " 52: 'C110',\n",
              " 53: 'C111',\n",
              " 54: 'C118',\n",
              " 55: 'C123',\n",
              " 56: 'C124',\n",
              " 57: 'C125',\n",
              " 58: 'C126',\n",
              " 59: 'C128',\n",
              " 60: 'C148',\n",
              " 61: 'C2',\n",
              " 62: 'C22 C26',\n",
              " 63: 'C23 C25 C27',\n",
              " 64: 'C30',\n",
              " 65: 'C32',\n",
              " 66: 'C45',\n",
              " 67: 'C46',\n",
              " 68: 'C47',\n",
              " 69: 'C49',\n",
              " 70: 'C50',\n",
              " 71: 'C52',\n",
              " 72: 'C54',\n",
              " 73: 'C62 C64',\n",
              " 74: 'C65',\n",
              " 75: 'C68',\n",
              " 76: 'C7',\n",
              " 77: 'C70',\n",
              " 78: 'C78',\n",
              " 79: 'C82',\n",
              " 80: 'C83',\n",
              " 81: 'C85',\n",
              " 82: 'C86',\n",
              " 83: 'C87',\n",
              " 84: 'C90',\n",
              " 85: 'C91',\n",
              " 86: 'C92',\n",
              " 87: 'C93',\n",
              " 88: 'C95',\n",
              " 89: 'C99',\n",
              " 90: 'D',\n",
              " 91: 'D10 D12',\n",
              " 92: 'D11',\n",
              " 93: 'D15',\n",
              " 94: 'D17',\n",
              " 95: 'D19',\n",
              " 96: 'D20',\n",
              " 97: 'D21',\n",
              " 98: 'D26',\n",
              " 99: 'D28',\n",
              " 100: 'D30',\n",
              " 101: 'D33',\n",
              " 102: 'D35',\n",
              " 103: 'D36',\n",
              " 104: 'D37',\n",
              " 105: 'D45',\n",
              " 106: 'D46',\n",
              " 107: 'D47',\n",
              " 108: 'D48',\n",
              " 109: 'D49',\n",
              " 110: 'D50',\n",
              " 111: 'D56',\n",
              " 112: 'D6',\n",
              " 113: 'D7',\n",
              " 114: 'D9',\n",
              " 115: 'E10',\n",
              " 116: 'E101',\n",
              " 117: 'E12',\n",
              " 118: 'E121',\n",
              " 119: 'E17',\n",
              " 120: 'E24',\n",
              " 121: 'E25',\n",
              " 122: 'E31',\n",
              " 123: 'E33',\n",
              " 124: 'E34',\n",
              " 125: 'E36',\n",
              " 126: 'E38',\n",
              " 127: 'E40',\n",
              " 128: 'E44',\n",
              " 129: 'E46',\n",
              " 130: 'E49',\n",
              " 131: 'E50',\n",
              " 132: 'E58',\n",
              " 133: 'E63',\n",
              " 134: 'E67',\n",
              " 135: 'E68',\n",
              " 136: 'E77',\n",
              " 137: 'E8',\n",
              " 138: 'F E69',\n",
              " 139: 'F G63',\n",
              " 140: 'F G73',\n",
              " 141: 'F2',\n",
              " 142: 'F33',\n",
              " 143: 'F38',\n",
              " 144: 'F4',\n",
              " 145: 'G6',\n",
              " 146: 'T',\n",
              " 147: nan}"
            ]
          },
          "metadata": {},
          "execution_count": 10
        }
      ],
      "source": [
        "TrainSet.Cabin = le.fit_transform(TrainSet.Cabin)\n",
        "model_mapping = {index : label for index, label in enumerate(le.classes_)}\n",
        "model_mapping"
      ]
    },
    {
      "cell_type": "code",
      "execution_count": 11,
      "id": "8e4bf952",
      "metadata": {
        "execution": {
          "iopub.execute_input": "2022-09-08T02:16:22.007564Z",
          "iopub.status.busy": "2022-09-08T02:16:22.006996Z",
          "iopub.status.idle": "2022-09-08T02:16:22.014770Z",
          "shell.execute_reply": "2022-09-08T02:16:22.014044Z"
        },
        "papermill": {
          "duration": 0.04738,
          "end_time": "2022-09-08T02:16:22.016904",
          "exception": false,
          "start_time": "2022-09-08T02:16:21.969524",
          "status": "completed"
        },
        "tags": [],
        "id": "8e4bf952"
      },
      "outputs": [],
      "source": [
        "TestSet.Sex = le.fit_transform(TestSet.Sex)\n",
        "TestSet.Embarked = le.fit_transform(TestSet.Embarked)\n",
        "TestSet.Ticket = le.fit_transform(TestSet.Ticket)\n",
        "TestSet.Cabin = le.fit_transform(TestSet.Cabin)"
      ]
    },
    {
      "cell_type": "markdown",
      "id": "2eea60bc",
      "metadata": {
        "papermill": {
          "duration": 0.036768,
          "end_time": "2022-09-08T02:16:22.171021",
          "exception": false,
          "start_time": "2022-09-08T02:16:22.134253",
          "status": "completed"
        },
        "tags": [],
        "id": "2eea60bc"
      },
      "source": [
        "## Know how much of each (Not going to transform the object..)"
      ]
    },
    {
      "cell_type": "code",
      "execution_count": 13,
      "id": "a6b681df",
      "metadata": {
        "execution": {
          "iopub.execute_input": "2022-09-08T02:16:22.245732Z",
          "iopub.status.busy": "2022-09-08T02:16:22.245192Z",
          "iopub.status.idle": "2022-09-08T02:16:22.252557Z",
          "shell.execute_reply": "2022-09-08T02:16:22.251862Z"
        },
        "papermill": {
          "duration": 0.046963,
          "end_time": "2022-09-08T02:16:22.254394",
          "exception": false,
          "start_time": "2022-09-08T02:16:22.207431",
          "status": "completed"
        },
        "tags": [],
        "colab": {
          "base_uri": "https://localhost:8080/"
        },
        "id": "a6b681df",
        "outputId": "70b8c0c2-a7b4-4342-f302-2bd69e9d92ce"
      },
      "outputs": [
        {
          "output_type": "execute_result",
          "data": {
            "text/plain": [
              "0    549\n",
              "1    342\n",
              "Name: Survived, dtype: int64"
            ]
          },
          "metadata": {},
          "execution_count": 13
        }
      ],
      "source": [
        "TrainSet['Survived'].value_counts()"
      ]
    },
    {
      "cell_type": "code",
      "execution_count": 14,
      "id": "e764105e",
      "metadata": {
        "execution": {
          "iopub.execute_input": "2022-09-08T02:16:22.334677Z",
          "iopub.status.busy": "2022-09-08T02:16:22.333977Z",
          "iopub.status.idle": "2022-09-08T02:16:22.341428Z",
          "shell.execute_reply": "2022-09-08T02:16:22.340527Z"
        },
        "papermill": {
          "duration": 0.051898,
          "end_time": "2022-09-08T02:16:22.345103",
          "exception": false,
          "start_time": "2022-09-08T02:16:22.293205",
          "status": "completed"
        },
        "tags": [],
        "colab": {
          "base_uri": "https://localhost:8080/"
        },
        "id": "e764105e",
        "outputId": "1530f0b3-f8bf-4f44-a981-9fb92a5765de"
      },
      "outputs": [
        {
          "output_type": "execute_result",
          "data": {
            "text/plain": [
              "3    491\n",
              "1    216\n",
              "2    184\n",
              "Name: Pclass, dtype: int64"
            ]
          },
          "metadata": {},
          "execution_count": 14
        }
      ],
      "source": [
        "TrainSet['Pclass'].value_counts()"
      ]
    },
    {
      "cell_type": "code",
      "execution_count": 15,
      "id": "d892cac2",
      "metadata": {
        "execution": {
          "iopub.execute_input": "2022-09-08T02:16:22.422564Z",
          "iopub.status.busy": "2022-09-08T02:16:22.422019Z",
          "iopub.status.idle": "2022-09-08T02:16:22.428874Z",
          "shell.execute_reply": "2022-09-08T02:16:22.428272Z"
        },
        "papermill": {
          "duration": 0.047454,
          "end_time": "2022-09-08T02:16:22.430773",
          "exception": false,
          "start_time": "2022-09-08T02:16:22.383319",
          "status": "completed"
        },
        "tags": [],
        "colab": {
          "base_uri": "https://localhost:8080/"
        },
        "id": "d892cac2",
        "outputId": "2168037d-65fb-44f2-acb1-63e7c88e9392"
      },
      "outputs": [
        {
          "output_type": "execute_result",
          "data": {
            "text/plain": [
              "1    577\n",
              "0    314\n",
              "Name: Sex, dtype: int64"
            ]
          },
          "metadata": {},
          "execution_count": 15
        }
      ],
      "source": [
        "TrainSet['Sex'].value_counts()"
      ]
    },
    {
      "cell_type": "code",
      "execution_count": 16,
      "id": "d90e0153",
      "metadata": {
        "execution": {
          "iopub.execute_input": "2022-09-08T02:16:22.509055Z",
          "iopub.status.busy": "2022-09-08T02:16:22.508491Z",
          "iopub.status.idle": "2022-09-08T02:16:22.515692Z",
          "shell.execute_reply": "2022-09-08T02:16:22.514869Z"
        },
        "papermill": {
          "duration": 0.048989,
          "end_time": "2022-09-08T02:16:22.517772",
          "exception": false,
          "start_time": "2022-09-08T02:16:22.468783",
          "status": "completed"
        },
        "tags": [],
        "colab": {
          "base_uri": "https://localhost:8080/"
        },
        "id": "d90e0153",
        "outputId": "f1f6a2c6-f56e-4940-8b3f-e6f3b1c77e37"
      },
      "outputs": [
        {
          "output_type": "execute_result",
          "data": {
            "text/plain": [
              "0    608\n",
              "1    209\n",
              "2     28\n",
              "4     18\n",
              "3     16\n",
              "8      7\n",
              "5      5\n",
              "Name: SibSp, dtype: int64"
            ]
          },
          "metadata": {},
          "execution_count": 16
        }
      ],
      "source": [
        "TrainSet['SibSp'].value_counts()"
      ]
    },
    {
      "cell_type": "code",
      "execution_count": 17,
      "id": "15a581c6",
      "metadata": {
        "execution": {
          "iopub.execute_input": "2022-09-08T02:16:22.596201Z",
          "iopub.status.busy": "2022-09-08T02:16:22.595629Z",
          "iopub.status.idle": "2022-09-08T02:16:22.602404Z",
          "shell.execute_reply": "2022-09-08T02:16:22.601726Z"
        },
        "papermill": {
          "duration": 0.048194,
          "end_time": "2022-09-08T02:16:22.604290",
          "exception": false,
          "start_time": "2022-09-08T02:16:22.556096",
          "status": "completed"
        },
        "tags": [],
        "colab": {
          "base_uri": "https://localhost:8080/"
        },
        "id": "15a581c6",
        "outputId": "7d76f5ef-fd41-4504-f261-e6870bbe4c62"
      },
      "outputs": [
        {
          "output_type": "execute_result",
          "data": {
            "text/plain": [
              "0    678\n",
              "1    118\n",
              "2     80\n",
              "5      5\n",
              "3      5\n",
              "4      4\n",
              "6      1\n",
              "Name: Parch, dtype: int64"
            ]
          },
          "metadata": {},
          "execution_count": 17
        }
      ],
      "source": [
        "TrainSet['Parch'].value_counts()"
      ]
    },
    {
      "cell_type": "code",
      "execution_count": 18,
      "id": "c0958920",
      "metadata": {
        "execution": {
          "iopub.execute_input": "2022-09-08T02:16:22.684505Z",
          "iopub.status.busy": "2022-09-08T02:16:22.683954Z",
          "iopub.status.idle": "2022-09-08T02:16:22.690764Z",
          "shell.execute_reply": "2022-09-08T02:16:22.689937Z"
        },
        "papermill": {
          "duration": 0.050057,
          "end_time": "2022-09-08T02:16:22.692736",
          "exception": false,
          "start_time": "2022-09-08T02:16:22.642679",
          "status": "completed"
        },
        "tags": [],
        "colab": {
          "base_uri": "https://localhost:8080/"
        },
        "id": "c0958920",
        "outputId": "1eb424d8-c376-4cca-ae3a-96a147aa41ba"
      },
      "outputs": [
        {
          "output_type": "execute_result",
          "data": {
            "text/plain": [
              "2    644\n",
              "0    168\n",
              "1     77\n",
              "3      2\n",
              "Name: Embarked, dtype: int64"
            ]
          },
          "metadata": {},
          "execution_count": 18
        }
      ],
      "source": [
        "TrainSet['Embarked'].value_counts()"
      ]
    },
    {
      "cell_type": "markdown",
      "id": "03d920da",
      "metadata": {
        "papermill": {
          "duration": 0.038645,
          "end_time": "2022-09-08T02:16:22.770005",
          "exception": false,
          "start_time": "2022-09-08T02:16:22.731360",
          "status": "completed"
        },
        "tags": [],
        "id": "03d920da"
      },
      "source": [
        "## Data distribution"
      ]
    },
    {
      "cell_type": "code",
      "execution_count": 19,
      "id": "7ea265ba",
      "metadata": {
        "execution": {
          "iopub.execute_input": "2022-09-08T02:16:22.849065Z",
          "iopub.status.busy": "2022-09-08T02:16:22.848469Z",
          "iopub.status.idle": "2022-09-08T02:16:25.408378Z",
          "shell.execute_reply": "2022-09-08T02:16:25.407425Z"
        },
        "papermill": {
          "duration": 2.601969,
          "end_time": "2022-09-08T02:16:25.410528",
          "exception": false,
          "start_time": "2022-09-08T02:16:22.808559",
          "status": "completed"
        },
        "tags": [],
        "colab": {
          "base_uri": "https://localhost:8080/",
          "height": 845
        },
        "id": "7ea265ba",
        "outputId": "b3b07ad0-a4af-4bf5-b405-ce5cbfc4d59e"
      },
      "outputs": [
        {
          "output_type": "display_data",
          "data": {
            "text/plain": [
              "<Figure size 1440x1080 with 12 Axes>"
            ],
            "image/png": "[encoded data removed]"
          },
          "metadata": {
            "needs_background": "light"
          }
        }
      ],
      "source": [
        "TrainSet.hist(bins=50, figsize=(20,15))\n",
        "plt.show()"
      ]
    },
    {
      "cell_type": "markdown",
      "id": "7ff0fab7",
      "metadata": {
        "papermill": {
          "duration": 0.04183,
          "end_time": "2022-09-08T02:16:25.494422",
          "exception": false,
          "start_time": "2022-09-08T02:16:25.452592",
          "status": "completed"
        },
        "tags": [],
        "id": "7ff0fab7"
      },
      "source": [
        "## Descriptive statistics"
      ]
    },
    {
      "cell_type": "code",
      "execution_count": 20,
      "id": "cfc883eb",
      "metadata": {
        "execution": {
          "iopub.execute_input": "2022-09-08T02:16:25.578362Z",
          "iopub.status.busy": "2022-09-08T02:16:25.578066Z",
          "iopub.status.idle": "2022-09-08T02:16:25.624255Z",
          "shell.execute_reply": "2022-09-08T02:16:25.623384Z"
        },
        "papermill": {
          "duration": 0.090651,
          "end_time": "2022-09-08T02:16:25.626455",
          "exception": false,
          "start_time": "2022-09-08T02:16:25.535804",
          "status": "completed"
        },
        "tags": [],
        "colab": {
          "base_uri": "https://localhost:8080/",
          "height": 300
        },
        "id": "cfc883eb",
        "outputId": "bd063f63-f40f-4d78-e23e-d52e7c64beb6"
      },
      "outputs": [
        {
          "output_type": "execute_result",
          "data": {
            "text/plain": [
              "       PassengerId    Survived      Pclass         Sex         Age  \\\n",
              "count   891.000000  891.000000  891.000000  891.000000  714.000000   \n",
              "mean    446.000000    0.383838    2.308642    0.647587   29.699118   \n",
              "std     257.353842    0.486592    0.836071    0.477990   14.526497   \n",
              "min       1.000000    0.000000    1.000000    0.000000    0.420000   \n",
              "25%     223.500000    0.000000    2.000000    0.000000   20.125000   \n",
              "50%     446.000000    0.000000    3.000000    1.000000   28.000000   \n",
              "75%     668.500000    1.000000    3.000000    1.000000   38.000000   \n",
              "max     891.000000    1.000000    3.000000    1.000000   80.000000   \n",
              "\n",
              "            SibSp       Parch      Ticket        Fare       Cabin    Embarked  \n",
              "count  891.000000  891.000000  891.000000  891.000000  891.000000  891.000000  \n",
              "mean     0.523008    0.381594  338.528620   32.204208  130.744108    1.538721  \n",
              "std      1.102743    0.806057  200.850657   49.693429   36.024237    0.794231  \n",
              "min      0.000000    0.000000    0.000000    0.000000    0.000000    0.000000  \n",
              "25%      0.000000    0.000000  158.500000    7.910400  147.000000    1.000000  \n",
              "50%      0.000000    0.000000  337.000000   14.454200  147.000000    2.000000  \n",
              "75%      1.000000    0.000000  519.500000   31.000000  147.000000    2.000000  \n",
              "max      8.000000    6.000000  680.000000  512.329200  147.000000    3.000000  "
            ],
            "text/html": [
              "\n",
              "  <div id=\"df-1f996db4-fc3e-4f9b-b20e-0336adf950e5\">\n",
              "    <div class=\"colab-df-container\">\n",
              "      <div>\n",
              "<style scoped>\n",
              "    .dataframe tbody tr th:only-of-type {\n",
              "        vertical-align: middle;\n",
              "    }\n",
              "\n",
              "    .dataframe tbody tr th {\n",
              "        vertical-align: top;\n",
              "    }\n",
              "\n",
              "    .dataframe thead th {\n",
              "        text-align: right;\n",
              "    }\n",
              "</style>\n",
              "<table border=\"1\" class=\"dataframe\">\n",
              "  <thead>\n",
              "    <tr style=\"text-align: right;\">\n",
              "      <th></th>\n",
              "      <th>PassengerId</th>\n",
              "      <th>Survived</th>\n",
              "      <th>Pclass</th>\n",
              "      <th>Sex</th>\n",
              "      <th>Age</th>\n",
              "      <th>SibSp</th>\n",
              "      <th>Parch</th>\n",
              "      <th>Ticket</th>\n",
              "      <th>Fare</th>\n",
              "      <th>Cabin</th>\n",
              "      <th>Embarked</th>\n",
              "    </tr>\n",
              "  </thead>\n",
              "  <tbody>\n",
              "    <tr>\n",
              "      <th>count</th>\n",
              "      <td>891.000000</td>\n",
              "      <td>891.000000</td>\n",
              "      <td>891.000000</td>\n",
              "      <td>891.000000</td>\n",
              "      <td>714.000000</td>\n",
              "      <td>891.000000</td>\n",
              "      <td>891.000000</td>\n",
              "      <td>891.000000</td>\n",
              "      <td>891.000000</td>\n",
              "      <td>891.000000</td>\n",
              "      <td>891.000000</td>\n",
              "    </tr>\n",
              "    <tr>\n",
              "      <th>mean</th>\n",
              "      <td>446.000000</td>\n",
              "      <td>0.383838</td>\n",
              "      <td>2.308642</td>\n",
              "      <td>0.647587</td>\n",
              "      <td>29.699118</td>\n",
              "      <td>0.523008</td>\n",
              "      <td>0.381594</td>\n",
              "      <td>338.528620</td>\n",
              "      <td>32.204208</td>\n",
              "      <td>130.744108</td>\n",
              "      <td>1.538721</td>\n",
              "    </tr>\n",
              "    <tr>\n",
              "      <th>std</th>\n",
              "      <td>257.353842</td>\n",
              "      <td>0.486592</td>\n",
              "      <td>0.836071</td>\n",
              "      <td>0.477990</td>\n",
              "      <td>14.526497</td>\n",
              "      <td>1.102743</td>\n",
              "      <td>0.806057</td>\n",
              "      <td>200.850657</td>\n",
              "      <td>49.693429</td>\n",
              "      <td>36.024237</td>\n",
              "      <td>0.794231</td>\n",
              "    </tr>\n",
              "    <tr>\n",
              "      <th>min</th>\n",
              "      <td>1.000000</td>\n",
              "      <td>0.000000</td>\n",
              "      <td>1.000000</td>\n",
              "      <td>0.000000</td>\n",
              "      <td>0.420000</td>\n",
              "      <td>0.000000</td>\n",
              "      <td>0.000000</td>\n",
              "      <td>0.000000</td>\n",
              "      <td>0.000000</td>\n",
              "      <td>0.000000</td>\n",
              "      <td>0.000000</td>\n",
              "    </tr>\n",
              "    <tr>\n",
              "      <th>25%</th>\n",
              "      <td>223.500000</td>\n",
              "      <td>0.000000</td>\n",
              "      <td>2.000000</td>\n",
              "      <td>0.000000</td>\n",
              "      <td>20.125000</td>\n",
              "      <td>0.000000</td>\n",
              "      <td>0.000000</td>\n",
              "      <td>158.500000</td>\n",
              "      <td>7.910400</td>\n",
              "      <td>147.000000</td>\n",
              "      <td>1.000000</td>\n",
              "    </tr>\n",
              "    <tr>\n",
              "      <th>50%</th>\n",
              "      <td>446.000000</td>\n",
              "      <td>0.000000</td>\n",
              "      <td>3.000000</td>\n",
              "      <td>1.000000</td>\n",
              "      <td>28.000000</td>\n",
              "      <td>0.000000</td>\n",
              "      <td>0.000000</td>\n",
              "      <td>337.000000</td>\n",
              "      <td>14.454200</td>\n",
              "      <td>147.000000</td>\n",
              "      <td>2.000000</td>\n",
              "    </tr>\n",
              "    <tr>\n",
              "      <th>75%</th>\n",
              "      <td>668.500000</td>\n",
              "      <td>1.000000</td>\n",
              "      <td>3.000000</td>\n",
              "      <td>1.000000</td>\n",
              "      <td>38.000000</td>\n",
              "      <td>1.000000</td>\n",
              "      <td>0.000000</td>\n",
              "      <td>519.500000</td>\n",
              "      <td>31.000000</td>\n",
              "      <td>147.000000</td>\n",
              "      <td>2.000000</td>\n",
              "    </tr>\n",
              "    <tr>\n",
              "      <th>max</th>\n",
              "      <td>891.000000</td>\n",
              "      <td>1.000000</td>\n",
              "      <td>3.000000</td>\n",
              "      <td>1.000000</td>\n",
              "      <td>80.000000</td>\n",
              "      <td>8.000000</td>\n",
              "      <td>6.000000</td>\n",
              "      <td>680.000000</td>\n",
              "      <td>512.329200</td>\n",
              "      <td>147.000000</td>\n",
              "      <td>3.000000</td>\n",
              "    </tr>\n",
              "  </tbody>\n",
              "</table>\n",
              "</div>\n",
              "      <button class=\"colab-df-convert\" onclick=\"convertToInteractive('df-1f996db4-fc3e-4f9b-b20e-0336adf950e5')\"\n",
              "              title=\"Convert this dataframe to an interactive table.\"\n",
              "              style=\"display:none;\">\n",
              "        \n",
              "  <svg xmlns=\"http://www.w3.org/2000/svg\" height=\"24px\"viewBox=\"0 0 24 24\"\n",
              "       width=\"24px\">\n",
              "    <path d=\"M0 0h24v24H0V0z\" fill=\"none\"/>\n",
              "    <path d=\"M18.56 5.44l.94 2.06.94-2.06 2.06-.94-2.06-.94-.94-2.06-.94 2.06-2.06.94zm-11 1L8.5 8.5l.94-2.06 2.06-.94-2.06-.94L8.5 2.5l-.94 2.06-2.06.94zm10 10l.94 2.06.94-2.06 2.06-.94-2.06-.94-.94-2.06-.94 2.06-2.06.94z\"/><path d=\"M17.41 7.96l-1.37-1.37c-.4-.4-.92-.59-1.43-.59-.52 0-1.04.2-1.43.59L10.3 9.45l-7.72 7.72c-.78.78-.78 2.05 0 2.83L4 21.41c.39.39.9.59 1.41.59.51 0 1.02-.2 1.41-.59l7.78-7.78 2.81-2.81c.8-.78.8-2.07 0-2.86zM5.41 20L4 18.59l7.72-7.72 1.47 1.35L5.41 20z\"/>\n",
              "  </svg>\n",
              "      </button>\n",
              "      \n",
              "  <style>\n",
              "    .colab-df-container {\n",
              "      display:flex;\n",
              "      flex-wrap:wrap;\n",
              "      gap: 12px;\n",
              "    }\n",
              "\n",
              "    .colab-df-convert {\n",
              "      background-color: #E8F0FE;\n",
              "      border: none;\n",
              "      border-radius: 50%;\n",
              "      cursor: pointer;\n",
              "      display: none;\n",
              "      fill: #1967D2;\n",
              "      height: 32px;\n",
              "      padding: 0 0 0 0;\n",
              "      width: 32px;\n",
              "    }\n",
              "\n",
              "    .colab-df-convert:hover {\n",
              "      background-color: #E2EBFA;\n",
              "      box-shadow: 0px 1px 2px rgba(60, 64, 67, 0.3), 0px 1px 3px 1px rgba(60, 64, 67, 0.15);\n",
              "      fill: #174EA6;\n",
              "    }\n",
              "\n",
              "    [theme=dark] .colab-df-convert {\n",
              "      background-color: #3B4455;\n",
              "      fill: #D2E3FC;\n",
              "    }\n",
              "\n",
              "    [theme=dark] .colab-df-convert:hover {\n",
              "      background-color: #434B5C;\n",
              "      box-shadow: 0px 1px 3px 1px rgba(0, 0, 0, 0.15);\n",
              "      filter: drop-shadow(0px 1px 2px rgba(0, 0, 0, 0.3));\n",
              "      fill: #FFFFFF;\n",
              "    }\n",
              "  </style>\n",
              "\n",
              "      <script>\n",
              "        const buttonEl =\n",
              "          document.querySelector('#df-1f996db4-fc3e-4f9b-b20e-0336adf950e5 button.colab-df-convert');\n",
              "        buttonEl.style.display =\n",
              "          google.colab.kernel.accessAllowed ? 'block' : 'none';\n",
              "\n",
              "        async function convertToInteractive(key) {\n",
              "          const element = document.querySelector('#df-1f996db4-fc3e-4f9b-b20e-0336adf950e5');\n",
              "          const dataTable =\n",
              "            await google.colab.kernel.invokeFunction('convertToInteractive',\n",
              "                                                     [key], {});\n",
              "          if (!dataTable) return;\n",
              "\n",
              "          const docLinkHtml = 'Like what you see? Visit the ' +\n",
              "            '<a target=\"_blank\" href=https://colab.research.google.com/notebooks/data_table.ipynb>data table notebook</a>'\n",
              "            + ' to learn more about interactive tables.';\n",
              "          element.innerHTML = '';\n",
              "          dataTable['output_type'] = 'display_data';\n",
              "          await google.colab.output.renderOutput(dataTable, element);\n",
              "          const docLink = document.createElement('div');\n",
              "          docLink.innerHTML = docLinkHtml;\n",
              "          element.appendChild(docLink);\n",
              "        }\n",
              "      </script>\n",
              "    </div>\n",
              "  </div>\n",
              "  "
            ]
          },
          "metadata": {},
          "execution_count": 20
        }
      ],
      "source": [
        "TrainSet.describe()"
      ]
    },
    {
      "cell_type": "markdown",
      "id": "69526d02",
      "metadata": {
        "papermill": {
          "duration": 0.041154,
          "end_time": "2022-09-08T02:16:25.708828",
          "exception": false,
          "start_time": "2022-09-08T02:16:25.667674",
          "status": "completed"
        },
        "tags": [],
        "id": "69526d02"
      },
      "source": [
        "## Linear correlation with the data set"
      ]
    },
    {
      "cell_type": "code",
      "execution_count": 21,
      "id": "2ac8c4ef",
      "metadata": {
        "execution": {
          "iopub.execute_input": "2022-09-08T02:16:25.794289Z",
          "iopub.status.busy": "2022-09-08T02:16:25.793695Z",
          "iopub.status.idle": "2022-09-08T02:16:26.481474Z",
          "shell.execute_reply": "2022-09-08T02:16:26.480506Z"
        },
        "papermill": {
          "duration": 0.733611,
          "end_time": "2022-09-08T02:16:26.483704",
          "exception": false,
          "start_time": "2022-09-08T02:16:25.750093",
          "status": "completed"
        },
        "tags": [],
        "colab": {
          "base_uri": "https://localhost:8080/",
          "height": 414
        },
        "id": "2ac8c4ef",
        "outputId": "8a405ad0-ee76-406a-8ded-f4af189537eb"
      },
      "outputs": [
        {
          "output_type": "display_data",
          "data": {
            "text/plain": [
              "<Figure size 576x432 with 1 Axes>"
            ],
            "image/png": "[encoded data removed]"
          },
          "metadata": {
            "needs_background": "light"
          }
        }
      ],
      "source": [
        "fig, ax = plt.subplots(nrows=1, ncols=1, figsize=(8, 6))\n",
        "\n",
        "sns.heatmap(\n",
        "    TrainSet.corr(),\n",
        "    annot     = True,\n",
        "    cbar      = False,\n",
        "    annot_kws = {\"size\": 8},\n",
        "    vmin      = -1,\n",
        "    vmax      = 1,\n",
        "    center    = 0,\n",
        "    cmap      = \"RdYlGn\",\n",
        "    square    = True,\n",
        "    ax        = ax\n",
        ")\n",
        "\n",
        "ax.set_xticklabels(\n",
        "    ax.get_xticklabels(),\n",
        "    rotation = 45,\n",
        "    horizontalalignment = 'right',\n",
        ")\n",
        "\n",
        "\n",
        "ax.tick_params(labelsize = 10)"
      ]
    },
    {
      "cell_type": "markdown",
      "id": "87fc8ebe",
      "metadata": {
        "papermill": {
          "duration": 0.043492,
          "end_time": "2022-09-08T02:16:26.571942",
          "exception": false,
          "start_time": "2022-09-08T02:16:26.528450",
          "status": "completed"
        },
        "tags": [],
        "id": "87fc8ebe"
      },
      "source": [
        "The most important variables are:\n",
        "\n",
        "\n",
        "1. Pclass\n",
        "1. Sex\n",
        "1. Fare\n",
        "1. Cabin"
      ]
    },
    {
      "cell_type": "code",
      "execution_count": 22,
      "id": "016b10cf",
      "metadata": {
        "execution": {
          "iopub.execute_input": "2022-09-08T02:16:26.662340Z",
          "iopub.status.busy": "2022-09-08T02:16:26.662028Z",
          "iopub.status.idle": "2022-09-08T02:16:26.668816Z",
          "shell.execute_reply": "2022-09-08T02:16:26.667990Z"
        },
        "papermill": {
          "duration": 0.054258,
          "end_time": "2022-09-08T02:16:26.670772",
          "exception": false,
          "start_time": "2022-09-08T02:16:26.616514",
          "status": "completed"
        },
        "tags": [],
        "id": "016b10cf"
      },
      "outputs": [],
      "source": [
        "Train = TrainSet[['PassengerId','Survived','Pclass','Age','Sex','Ticket','Fare','Cabin','Embarked','SibSp']]\n",
        "Test = TestSet[['PassengerId','Pclass','Age','Sex','Ticket','Fare','Cabin','Embarked','SibSp']]"
      ]
    },
    {
      "cell_type": "code",
      "execution_count": 23,
      "id": "ece024d1",
      "metadata": {
        "execution": {
          "iopub.execute_input": "2022-09-08T02:16:26.761024Z",
          "iopub.status.busy": "2022-09-08T02:16:26.760441Z",
          "iopub.status.idle": "2022-09-08T02:16:26.767706Z",
          "shell.execute_reply": "2022-09-08T02:16:26.767112Z"
        },
        "papermill": {
          "duration": 0.054063,
          "end_time": "2022-09-08T02:16:26.769552",
          "exception": false,
          "start_time": "2022-09-08T02:16:26.715489",
          "status": "completed"
        },
        "tags": [],
        "colab": {
          "base_uri": "https://localhost:8080/"
        },
        "id": "ece024d1",
        "outputId": "27c9a8c0-d533-4da9-84a3-719b2bf3644b"
      },
      "outputs": [
        {
          "output_type": "execute_result",
          "data": {
            "text/plain": [
              "PassengerId      0\n",
              "Survived         0\n",
              "Pclass           0\n",
              "Age            177\n",
              "Sex              0\n",
              "Ticket           0\n",
              "Fare             0\n",
              "Cabin            0\n",
              "Embarked         0\n",
              "SibSp            0\n",
              "dtype: int64"
            ]
          },
          "metadata": {},
          "execution_count": 23
        }
      ],
      "source": [
        "Train.isna().sum()\n"
      ]
    },
    {
      "cell_type": "code",
      "execution_count": 24,
      "id": "6c06daff",
      "metadata": {
        "execution": {
          "iopub.execute_input": "2022-09-08T02:16:26.859325Z",
          "iopub.status.busy": "2022-09-08T02:16:26.858772Z",
          "iopub.status.idle": "2022-09-08T02:16:26.865868Z",
          "shell.execute_reply": "2022-09-08T02:16:26.865237Z"
        },
        "papermill": {
          "duration": 0.054193,
          "end_time": "2022-09-08T02:16:26.867713",
          "exception": false,
          "start_time": "2022-09-08T02:16:26.813520",
          "status": "completed"
        },
        "tags": [],
        "colab": {
          "base_uri": "https://localhost:8080/"
        },
        "id": "6c06daff",
        "outputId": "f01b1230-9eee-4dc0-e3ef-7a4d7119cbe1"
      },
      "outputs": [
        {
          "output_type": "execute_result",
          "data": {
            "text/plain": [
              "PassengerId     0\n",
              "Pclass          0\n",
              "Age            86\n",
              "Sex             0\n",
              "Ticket          0\n",
              "Fare            1\n",
              "Cabin           0\n",
              "Embarked        0\n",
              "SibSp           0\n",
              "dtype: int64"
            ]
          },
          "metadata": {},
          "execution_count": 24
        }
      ],
      "source": [
        "Test.isna().sum()\n"
      ]
    },
    {
      "cell_type": "code",
      "execution_count": 25,
      "id": "8ad8e5a7",
      "metadata": {
        "execution": {
          "iopub.execute_input": "2022-09-08T02:16:26.958579Z",
          "iopub.status.busy": "2022-09-08T02:16:26.957992Z",
          "iopub.status.idle": "2022-09-08T02:16:26.964238Z",
          "shell.execute_reply": "2022-09-08T02:16:26.963318Z"
        },
        "papermill": {
          "duration": 0.054271,
          "end_time": "2022-09-08T02:16:26.966412",
          "exception": false,
          "start_time": "2022-09-08T02:16:26.912141",
          "status": "completed"
        },
        "tags": [],
        "id": "8ad8e5a7"
      },
      "outputs": [],
      "source": [
        "mean_age_train = Train['Age'].mean()\n",
        "mean_age_test = Test['Age'].mean()\n",
        "\n",
        "Train.fillna(mean_age_train,inplace=True)\n",
        "Test.fillna(mean_age_test,inplace=True)"
      ]
    },
    {
      "cell_type": "code",
      "execution_count": 26,
      "id": "baa52ef3",
      "metadata": {
        "execution": {
          "iopub.execute_input": "2022-09-08T02:16:27.058044Z",
          "iopub.status.busy": "2022-09-08T02:16:27.057486Z",
          "iopub.status.idle": "2022-09-08T02:16:27.064511Z",
          "shell.execute_reply": "2022-09-08T02:16:27.063933Z"
        },
        "papermill": {
          "duration": 0.055407,
          "end_time": "2022-09-08T02:16:27.066335",
          "exception": false,
          "start_time": "2022-09-08T02:16:27.010928",
          "status": "completed"
        },
        "tags": [],
        "colab": {
          "base_uri": "https://localhost:8080/"
        },
        "id": "baa52ef3",
        "outputId": "9ea45d5c-4441-44ae-e8bc-f3aa42aafb2c"
      },
      "outputs": [
        {
          "output_type": "execute_result",
          "data": {
            "text/plain": [
              "PassengerId    0\n",
              "Survived       0\n",
              "Pclass         0\n",
              "Age            0\n",
              "Sex            0\n",
              "Ticket         0\n",
              "Fare           0\n",
              "Cabin          0\n",
              "Embarked       0\n",
              "SibSp          0\n",
              "dtype: int64"
            ]
          },
          "metadata": {},
          "execution_count": 26
        }
      ],
      "source": [
        "Train.isna().sum()\n"
      ]
    },
    {
      "cell_type": "code",
      "execution_count": 27,
      "id": "55a3a314",
      "metadata": {
        "execution": {
          "iopub.execute_input": "2022-09-08T02:16:27.157332Z",
          "iopub.status.busy": "2022-09-08T02:16:27.157030Z",
          "iopub.status.idle": "2022-09-08T02:16:27.164730Z",
          "shell.execute_reply": "2022-09-08T02:16:27.164118Z"
        },
        "papermill": {
          "duration": 0.055499,
          "end_time": "2022-09-08T02:16:27.166545",
          "exception": false,
          "start_time": "2022-09-08T02:16:27.111046",
          "status": "completed"
        },
        "tags": [],
        "colab": {
          "base_uri": "https://localhost:8080/"
        },
        "id": "55a3a314",
        "outputId": "dcb1a18e-d877-4a14-af39-8986a1eb11d3"
      },
      "outputs": [
        {
          "output_type": "execute_result",
          "data": {
            "text/plain": [
              "PassengerId    0\n",
              "Pclass         0\n",
              "Age            0\n",
              "Sex            0\n",
              "Ticket         0\n",
              "Fare           0\n",
              "Cabin          0\n",
              "Embarked       0\n",
              "SibSp          0\n",
              "dtype: int64"
            ]
          },
          "metadata": {},
          "execution_count": 27
        }
      ],
      "source": [
        "Test.isna().sum()\n"
      ]
    },
    {
      "cell_type": "markdown",
      "id": "d925278e",
      "metadata": {
        "papermill": {
          "duration": 0.045516,
          "end_time": "2022-09-08T02:16:27.257733",
          "exception": false,
          "start_time": "2022-09-08T02:16:27.212217",
          "status": "completed"
        },
        "tags": [],
        "id": "d925278e"
      },
      "source": [
        "# Split The data"
      ]
    },
    {
      "cell_type": "code",
      "execution_count": 28,
      "id": "556e8881",
      "metadata": {
        "execution": {
          "iopub.execute_input": "2022-09-08T02:16:27.349542Z",
          "iopub.status.busy": "2022-09-08T02:16:27.348691Z",
          "iopub.status.idle": "2022-09-08T02:16:27.355004Z",
          "shell.execute_reply": "2022-09-08T02:16:27.354154Z"
        },
        "papermill": {
          "duration": 0.054468,
          "end_time": "2022-09-08T02:16:27.356950",
          "exception": false,
          "start_time": "2022-09-08T02:16:27.302482",
          "status": "completed"
        },
        "tags": [],
        "id": "556e8881"
      },
      "outputs": [],
      "source": [
        "X_train = Train.drop('Survived',axis=1)\n",
        "y_train = Train[['Survived']]"
      ]
    },
    {
      "cell_type": "markdown",
      "id": "4996f6e7",
      "metadata": {
        "papermill": {
          "duration": 0.045384,
          "end_time": "2022-09-08T02:16:27.447416",
          "exception": false,
          "start_time": "2022-09-08T02:16:27.402032",
          "status": "completed"
        },
        "tags": [],
        "id": "4996f6e7"
      },
      "source": [
        "# Logistic"
      ]
    },
    {
      "cell_type": "code",
      "execution_count": 29,
      "id": "a96709ec",
      "metadata": {
        "execution": {
          "iopub.execute_input": "2022-09-08T02:16:27.538939Z",
          "iopub.status.busy": "2022-09-08T02:16:27.538623Z",
          "iopub.status.idle": "2022-09-08T02:16:27.579597Z",
          "shell.execute_reply": "2022-09-08T02:16:27.578974Z"
        },
        "papermill": {
          "duration": 0.089158,
          "end_time": "2022-09-08T02:16:27.581571",
          "exception": false,
          "start_time": "2022-09-08T02:16:27.492413",
          "status": "completed"
        },
        "tags": [],
        "colab": {
          "base_uri": "https://localhost:8080/"
        },
        "id": "a96709ec",
        "outputId": "f2f5e064-a203-4348-b60a-81714ea5b7a0"
      },
      "outputs": [
        {
          "output_type": "execute_result",
          "data": {
            "text/plain": [
              "LogisticRegression()"
            ]
          },
          "metadata": {},
          "execution_count": 29
        }
      ],
      "source": [
        "clf = LogisticRegression()\n",
        "clf.fit(X_train, y_train)\n"
      ]
    },
    {
      "cell_type": "code",
      "execution_count": 30,
      "id": "ab49df07",
      "metadata": {
        "execution": {
          "iopub.execute_input": "2022-09-08T02:16:27.675796Z",
          "iopub.status.busy": "2022-09-08T02:16:27.675312Z",
          "iopub.status.idle": "2022-09-08T02:16:27.680820Z",
          "shell.execute_reply": "2022-09-08T02:16:27.680121Z"
        },
        "papermill": {
          "duration": 0.055082,
          "end_time": "2022-09-08T02:16:27.682747",
          "exception": false,
          "start_time": "2022-09-08T02:16:27.627665",
          "status": "completed"
        },
        "tags": [],
        "id": "ab49df07"
      },
      "outputs": [],
      "source": [
        "y_pred = clf.predict(Test)"
      ]
    },
    {
      "cell_type": "code",
      "execution_count": 31,
      "id": "b5c318dc",
      "metadata": {
        "execution": {
          "iopub.execute_input": "2022-09-08T02:16:27.777955Z",
          "iopub.status.busy": "2022-09-08T02:16:27.777440Z",
          "iopub.status.idle": "2022-09-08T02:16:27.781953Z",
          "shell.execute_reply": "2022-09-08T02:16:27.781314Z"
        },
        "papermill": {
          "duration": 0.053035,
          "end_time": "2022-09-08T02:16:27.783784",
          "exception": false,
          "start_time": "2022-09-08T02:16:27.730749",
          "status": "completed"
        },
        "tags": [],
        "id": "b5c318dc"
      },
      "outputs": [],
      "source": [
        "sub = {'PassengerId': TestSet.PassengerId,'Survived': y_pred }\n",
        "sub = pd.DataFrame(data=sub)"
      ]
    },
    {
      "cell_type": "code",
      "execution_count": 32,
      "id": "04f44757",
      "metadata": {
        "execution": {
          "iopub.execute_input": "2022-09-08T02:16:27.877951Z",
          "iopub.status.busy": "2022-09-08T02:16:27.877631Z",
          "iopub.status.idle": "2022-09-08T02:16:27.884821Z",
          "shell.execute_reply": "2022-09-08T02:16:27.884098Z"
        },
        "papermill": {
          "duration": 0.057664,
          "end_time": "2022-09-08T02:16:27.886870",
          "exception": false,
          "start_time": "2022-09-08T02:16:27.829206",
          "status": "completed"
        },
        "tags": [],
        "id": "04f44757"
      },
      "outputs": [],
      "source": [
        "sub.to_csv('submission.csv', index = False)"
      ]
    },
    {
      "cell_type": "code",
      "execution_count": 33,
      "id": "b1e9a75b",
      "metadata": {
        "papermill": {
          "duration": 0.045571,
          "end_time": "2022-09-08T02:16:27.977997",
          "exception": false,
          "start_time": "2022-09-08T02:16:27.932426",
          "status": "completed"
        },
        "tags": [],
        "colab": {
          "base_uri": "https://localhost:8080/",
          "height": 206
        },
        "id": "b1e9a75b",
        "outputId": "1af9121e-c565-4a1b-a9bc-6f177b3ea4cf"
      },
      "outputs": [
        {
          "output_type": "execute_result",
          "data": {
            "text/plain": [
              "   PassengerId  Survived\n",
              "0          892         0\n",
              "1          893         1\n",
              "2          894         0\n",
              "3          895         0\n",
              "4          896         1"
            ],
            "text/html": [
              "\n",
              "  <div id=\"df-0f1a06c7-e0f9-4ae1-a480-771b5b23df53\">\n",
              "    <div class=\"colab-df-container\">\n",
              "      <div>\n",
              "<style scoped>\n",
              "    .dataframe tbody tr th:only-of-type {\n",
              "        vertical-align: middle;\n",
              "    }\n",
              "\n",
              "    .dataframe tbody tr th {\n",
              "        vertical-align: top;\n",
              "    }\n",
              "\n",
              "    .dataframe thead th {\n",
              "        text-align: right;\n",
              "    }\n",
              "</style>\n",
              "<table border=\"1\" class=\"dataframe\">\n",
              "  <thead>\n",
              "    <tr style=\"text-align: right;\">\n",
              "      <th></th>\n",
              "      <th>PassengerId</th>\n",
              "      <th>Survived</th>\n",
              "    </tr>\n",
              "  </thead>\n",
              "  <tbody>\n",
              "    <tr>\n",
              "      <th>0</th>\n",
              "      <td>892</td>\n",
              "      <td>0</td>\n",
              "    </tr>\n",
              "    <tr>\n",
              "      <th>1</th>\n",
              "      <td>893</td>\n",
              "      <td>1</td>\n",
              "    </tr>\n",
              "    <tr>\n",
              "      <th>2</th>\n",
              "      <td>894</td>\n",
              "      <td>0</td>\n",
              "    </tr>\n",
              "    <tr>\n",
              "      <th>3</th>\n",
              "      <td>895</td>\n",
              "      <td>0</td>\n",
              "    </tr>\n",
              "    <tr>\n",
              "      <th>4</th>\n",
              "      <td>896</td>\n",
              "      <td>1</td>\n",
              "    </tr>\n",
              "  </tbody>\n",
              "</table>\n",
              "</div>\n",
              "      <button class=\"colab-df-convert\" onclick=\"convertToInteractive('df-0f1a06c7-e0f9-4ae1-a480-771b5b23df53')\"\n",
              "              title=\"Convert this dataframe to an interactive table.\"\n",
              "              style=\"display:none;\">\n",
              "        \n",
              "  <svg xmlns=\"http://www.w3.org/2000/svg\" height=\"24px\"viewBox=\"0 0 24 24\"\n",
              "       width=\"24px\">\n",
              "    <path d=\"M0 0h24v24H0V0z\" fill=\"none\"/>\n",
              "    <path d=\"M18.56 5.44l.94 2.06.94-2.06 2.06-.94-2.06-.94-.94-2.06-.94 2.06-2.06.94zm-11 1L8.5 8.5l.94-2.06 2.06-.94-2.06-.94L8.5 2.5l-.94 2.06-2.06.94zm10 10l.94 2.06.94-2.06 2.06-.94-2.06-.94-.94-2.06-.94 2.06-2.06.94z\"/><path d=\"M17.41 7.96l-1.37-1.37c-.4-.4-.92-.59-1.43-.59-.52 0-1.04.2-1.43.59L10.3 9.45l-7.72 7.72c-.78.78-.78 2.05 0 2.83L4 21.41c.39.39.9.59 1.41.59.51 0 1.02-.2 1.41-.59l7.78-7.78 2.81-2.81c.8-.78.8-2.07 0-2.86zM5.41 20L4 18.59l7.72-7.72 1.47 1.35L5.41 20z\"/>\n",
              "  </svg>\n",
              "      </button>\n",
              "      \n",
              "  <style>\n",
              "    .colab-df-container {\n",
              "      display:flex;\n",
              "      flex-wrap:wrap;\n",
              "      gap: 12px;\n",
              "    }\n",
              "\n",
              "    .colab-df-convert {\n",
              "      background-color: #E8F0FE;\n",
              "      border: none;\n",
              "      border-radius: 50%;\n",
              "      cursor: pointer;\n",
              "      display: none;\n",
              "      fill: #1967D2;\n",
              "      height: 32px;\n",
              "      padding: 0 0 0 0;\n",
              "      width: 32px;\n",
              "    }\n",
              "\n",
              "    .colab-df-convert:hover {\n",
              "      background-color: #E2EBFA;\n",
              "      box-shadow: 0px 1px 2px rgba(60, 64, 67, 0.3), 0px 1px 3px 1px rgba(60, 64, 67, 0.15);\n",
              "      fill: #174EA6;\n",
              "    }\n",
              "\n",
              "    [theme=dark] .colab-df-convert {\n",
              "      background-color: #3B4455;\n",
              "      fill: #D2E3FC;\n",
              "    }\n",
              "\n",
              "    [theme=dark] .colab-df-convert:hover {\n",
              "      background-color: #434B5C;\n",
              "      box-shadow: 0px 1px 3px 1px rgba(0, 0, 0, 0.15);\n",
              "      filter: drop-shadow(0px 1px 2px rgba(0, 0, 0, 0.3));\n",
              "      fill: #FFFFFF;\n",
              "    }\n",
              "  </style>\n",
              "\n",
              "      <script>\n",
              "        const buttonEl =\n",
              "          document.querySelector('#df-0f1a06c7-e0f9-4ae1-a480-771b5b23df53 button.colab-df-convert');\n",
              "        buttonEl.style.display =\n",
              "          google.colab.kernel.accessAllowed ? 'block' : 'none';\n",
              "\n",
              "        async function convertToInteractive(key) {\n",
              "          const element = document.querySelector('#df-0f1a06c7-e0f9-4ae1-a480-771b5b23df53');\n",
              "          const dataTable =\n",
              "            await google.colab.kernel.invokeFunction('convertToInteractive',\n",
              "                                                     [key], {});\n",
              "          if (!dataTable) return;\n",
              "\n",
              "          const docLinkHtml = 'Like what you see? Visit the ' +\n",
              "            '<a target=\"_blank\" href=https://colab.research.google.com/notebooks/data_table.ipynb>data table notebook</a>'\n",
              "            + ' to learn more about interactive tables.';\n",
              "          element.innerHTML = '';\n",
              "          dataTable['output_type'] = 'display_data';\n",
              "          await google.colab.output.renderOutput(dataTable, element);\n",
              "          const docLink = document.createElement('div');\n",
              "          docLink.innerHTML = docLinkHtml;\n",
              "          element.appendChild(docLink);\n",
              "        }\n",
              "      </script>\n",
              "    </div>\n",
              "  </div>\n",
              "  "
            ]
          },
          "metadata": {},
          "execution_count": 33
        }
      ],
      "source": [
        "sub.head()"
      ]
    },
    {
      "cell_type": "code",
      "source": [],
      "metadata": {
        "id": "cj6RlkQaQplc"
      },
      "id": "cj6RlkQaQplc",
      "execution_count": null,
      "outputs": []
    }
  ],
  "metadata": {
    "kernelspec": {
      "display_name": "Python 3",
      "language": "python",
      "name": "python3"
    },
    "language_info": {
      "codemirror_mode": {
        "name": "ipython",
        "version": 3
      },
      "file_extension": ".py",
      "mimetype": "text/x-python",
      "name": "python",
      "nbconvert_exporter": "python",
      "pygments_lexer": "ipython3",
      "version": "3.7.12"
    },
    "papermill": {
      "default_parameters": {},
      "duration": 18.924165,
      "end_time": "2022-09-08T02:16:28.844327",
      "environment_variables": {},
      "exception": null,
      "input_path": "__notebook__.ipynb",
      "output_path": "__notebook__.ipynb",
      "parameters": {},
      "start_time": "2022-09-08T02:16:09.920162",
      "version": "2.3.4"
    },
    "colab": {
      "provenance": []
    }
  },
  "nbformat": 4,
  "nbformat_minor": 5
}